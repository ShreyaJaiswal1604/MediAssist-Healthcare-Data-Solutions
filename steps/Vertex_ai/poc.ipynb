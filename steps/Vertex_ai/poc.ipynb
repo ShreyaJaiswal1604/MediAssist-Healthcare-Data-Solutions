{
 "cells": [
  {
   "cell_type": "code",
   "execution_count": 1,
   "metadata": {},
   "outputs": [],
   "source": [
    "from fastapi import FastAPI, HTTPException\n",
    "from pydantic import BaseModel\n",
    "from google.cloud import storage\n",
    "from transformers import AutoTokenizer, AutoModelForCausalLM\n",
    "import os\n"
   ]
  },
  {
   "cell_type": "code",
   "execution_count": 2,
   "metadata": {},
   "outputs": [],
   "source": [
    "GCS_BUCKET = \"medical_llm_models\"\n",
    "MODEL_PATH = \"/app/model\"\n",
    "MODEL_NAME = \"Asclepius-Llama3-8B\"\n"
   ]
  },
  {
   "cell_type": "code",
   "execution_count": 3,
   "metadata": {},
   "outputs": [
    {
     "name": "stdout",
     "output_type": "stream",
     "text": [
      "[INFO] Downloading model from GCS...\n"
     ]
    },
    {
     "name": "stderr",
     "output_type": "stream",
     "text": [
      "/Users/shreyajaiswal/Desktop/Start-to-Complete/MediAssist-Healthcare-Data-Solutions/.venv/lib/python3.9/site-packages/google/auth/_default.py:76: UserWarning: Your application has authenticated using end user credentials from Google Cloud SDK without a quota project. You might receive a \"quota exceeded\" or \"API not enabled\" error. See the following page for troubleshooting: https://cloud.google.com/docs/authentication/adc-troubleshooting/user-creds. \n",
      "  warnings.warn(_CLOUD_SDK_CREDENTIALS_WARNING)\n",
      "Python(61490) MallocStackLogging: can't turn off malloc stack logging because it was not enabled.\n",
      "/Users/shreyajaiswal/Desktop/Start-to-Complete/MediAssist-Healthcare-Data-Solutions/.venv/lib/python3.9/site-packages/google/auth/_default.py:76: UserWarning: Your application has authenticated using end user credentials from Google Cloud SDK without a quota project. You might receive a \"quota exceeded\" or \"API not enabled\" error. See the following page for troubleshooting: https://cloud.google.com/docs/authentication/adc-troubleshooting/user-creds. \n",
      "  warnings.warn(_CLOUD_SDK_CREDENTIALS_WARNING)\n",
      "Python(61507) MallocStackLogging: can't turn off malloc stack logging because it was not enabled.\n"
     ]
    }
   ],
   "source": [
    "from google.cloud import storage\n",
    "\n",
    "print(\"[INFO] Downloading model from GCS...\")\n",
    "\n",
    "# Initialize GCS Client\n",
    "storage_client = storage.Client()\n",
    "\n"
   ]
  },
  {
   "cell_type": "code",
   "execution_count": 4,
   "metadata": {},
   "outputs": [
    {
     "name": "stdout",
     "output_type": "stream",
     "text": [
      "<Bucket: medical_llm_models>\n"
     ]
    }
   ],
   "source": [
    "# Access the bucket\n",
    "bucket = storage_client.bucket(GCS_BUCKET)\n",
    "\n",
    "print(bucket)"
   ]
  },
  {
   "cell_type": "code",
   "execution_count": null,
   "metadata": {},
   "outputs": [
    {
     "name": "stdout",
     "output_type": "stream",
     "text": [
      "<google.api_core.page_iterator.HTTPIterator object at 0x1076ed100>\n"
     ]
    }
   ],
   "source": [
    "# List all blobs (files) inside the model folder\n",
    "blobs = bucket.list_blobs(prefix=MODEL_NAME)\n"
   ]
  },
  {
   "cell_type": "code",
   "execution_count": 6,
   "metadata": {},
   "outputs": [
    {
     "name": "stdout",
     "output_type": "stream",
     "text": [
      "<Blob: medical_llm_models, Asclepius-Llama3-8B/.gitattributes, 1733024481228592>\n",
      "<Blob: medical_llm_models, Asclepius-Llama3-8B/README.md, 1733024281915374>\n",
      "<Blob: medical_llm_models, Asclepius-Llama3-8B/config.json, 1733017203052052>\n",
      "<Blob: medical_llm_models, Asclepius-Llama3-8B/generation_config.json, 1733024211541488>\n",
      "<Blob: medical_llm_models, Asclepius-Llama3-8B/model-00001-of-00007.safetensors, 1733024281376956>\n",
      "<Blob: medical_llm_models, Asclepius-Llama3-8B/model-00004-of-00007.safetensors, 1733024480147980>\n",
      "<Blob: medical_llm_models, Asclepius-Llama3-8B/model-00005-of-00007.safetensors, 1733024210960644>\n",
      "<Blob: medical_llm_models, Asclepius-Llama3-8B/special_tokens_map.json, 1733017202249401>\n",
      "<Blob: medical_llm_models, Asclepius-Llama3-8B/tokenizer.json, 1733017215588927>\n",
      "<Blob: medical_llm_models, Asclepius-Llama3-8B/tokenizer_config.json, 1733017202261118>\n",
      "<Blob: medical_llm_models, Asclepius-Llama3-8B/training_args.bin, 1733024480738156>\n"
     ]
    }
   ],
   "source": [
    "for blob in blobs:\n",
    "    print(blob)"
   ]
  },
  {
   "cell_type": "code",
   "execution_count": null,
   "metadata": {},
   "outputs": [],
   "source": []
  }
 ],
 "metadata": {
  "kernelspec": {
   "display_name": ".venv",
   "language": "python",
   "name": "python3"
  },
  "language_info": {
   "codemirror_mode": {
    "name": "ipython",
    "version": 3
   },
   "file_extension": ".py",
   "mimetype": "text/x-python",
   "name": "python",
   "nbconvert_exporter": "python",
   "pygments_lexer": "ipython3",
   "version": "3.9.20"
  }
 },
 "nbformat": 4,
 "nbformat_minor": 2
}
