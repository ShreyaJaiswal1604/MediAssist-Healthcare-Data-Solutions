{
 "cells": [
  {
   "cell_type": "code",
   "execution_count": 1,
   "metadata": {},
   "outputs": [],
   "source": [
    "import pandas as pd\n",
    "import snowflake.connector\n",
    "from google.cloud import aiplatform\n",
    "from google.protobuf import json_format\n",
    "from google.protobuf.struct_pb2 import Value"
   ]
  },
  {
   "cell_type": "code",
   "execution_count": 2,
   "metadata": {},
   "outputs": [],
   "source": [
    "# Snowflake Connection Parameters\n",
    "SNOWFLAKE_USER = \"DOLPHIN\"\n",
    "SNOWFLAKE_PASSWORD = \"Maapaa@1603\"\n",
    "SNOWFLAKE_ACCOUNT = \"URB63596\"\n",
    "SNOWFLAKE_WAREHOUSE = \"ANIMAL_TASK_WH\"\n",
    "SNOWFLAKE_DATABASE = \"mimic_iv_medi_assist\"\n",
    "SNOWFLAKE_SCHEMA = \"staging_mimc\"\n",
    "DISCHARGE_TABLE = \"MIMIC_IV_MEDI_ASSIST.STAGING_MIMIC.STG_DISCHARGE\""
   ]
  },
  {
   "cell_type": "code",
   "execution_count": 3,
   "metadata": {},
   "outputs": [],
   "source": [
    "# Vertex AI endpoint configuration\n",
    "PROJECT_ID = \"168237001903\"\n",
    "ENDPOINT_ID = \"490761517499678720\"\n",
    "LOCATION = \"us-central1\""
   ]
  },
  {
   "cell_type": "code",
   "execution_count": 7,
   "metadata": {},
   "outputs": [],
   "source": [
    "# Query to fetch clinical notes\n",
    "query = f\"\"\"\n",
    "SELECT SUBJECT_ID, HADM_ID, TEXT \n",
    "FROM {DISCHARGE_TABLE}\n",
    "WHERE TEXT IS NOT NULL\n",
    "LIMIT 1\n",
    "\"\"\""
   ]
  },
  {
   "cell_type": "code",
   "execution_count": 5,
   "metadata": {},
   "outputs": [],
   "source": [
    "def predict_custom_trained_model_sample(project, endpoint_id, instances, location=\"us-central1\"):\n",
    "    \"\"\"\n",
    "    Sends a prediction request to the Vertex AI endpoint.\n",
    "    \"\"\"\n",
    "    client_options = {\"api_endpoint\": f\"{location}-aiplatform.googleapis.com\"}\n",
    "    client = aiplatform.gapic.PredictionServiceClient(client_options=client_options)\n",
    "\n",
    "    instances = [json_format.ParseDict(instance_dict, Value()) for instance_dict in instances]\n",
    "    parameters_dict = {}\n",
    "    parameters = json_format.ParseDict(parameters_dict, Value())\n",
    "    endpoint = client.endpoint_path(project=project, location=location, endpoint=endpoint_id)\n",
    "\n",
    "    response = client.predict(endpoint=endpoint, instances=instances, parameters=parameters)\n",
    "    print(\"Response from Vertex AI:\")\n",
    "    print(\" Deployed model ID:\", response.deployed_model_id)\n",
    "    predictions = response.predictions\n",
    "    for prediction in predictions:\n",
    "        print(\" Prediction:\", prediction)\n",
    "    return predictions"
   ]
  },
  {
   "cell_type": "code",
   "execution_count": 8,
   "metadata": {},
   "outputs": [
    {
     "name": "stdout",
     "output_type": "stream",
     "text": [
      "[INFO] Connecting to Snowflake...\n",
      "[INFO] Executing query to fetch clinical notes...\n"
     ]
    },
    {
     "name": "stderr",
     "output_type": "stream",
     "text": [
      "/var/folders/wj/v5dnvjg12ws3p1zszn_fvgt80000gn/T/ipykernel_44342/3796982658.py:13: UserWarning: pandas only supports SQLAlchemy connectable (engine/connection) or database string URI or sqlite3 DBAPI2 connection. Other DBAPI2 objects are not tested. Please consider using SQLAlchemy.\n",
      "  clinical_notes_df = pd.read_sql(query, conn)\n"
     ]
    },
    {
     "name": "stdout",
     "output_type": "stream",
     "text": [
      "[INFO] Retrieved clinical notes:\n",
      "   SUBJECT_ID   HADM_ID                                               TEXT\n",
      "0    15992303  22502053   \\nName:  ___               Unit No:   ___\\n \\...\n"
     ]
    }
   ],
   "source": [
    "# Step 1: Fetch clinical notes from Snowflake\n",
    "print(\"[INFO] Connecting to Snowflake...\")\n",
    "conn = snowflake.connector.connect(\n",
    "    user=SNOWFLAKE_USER,\n",
    "    password=SNOWFLAKE_PASSWORD,\n",
    "    account=SNOWFLAKE_ACCOUNT,\n",
    "    warehouse=SNOWFLAKE_WAREHOUSE,\n",
    "    database=SNOWFLAKE_DATABASE,\n",
    "    schema=SNOWFLAKE_SCHEMA,\n",
    ")\n",
    "\n",
    "print(\"[INFO] Executing query to fetch clinical notes...\")\n",
    "clinical_notes_df = pd.read_sql(query, conn)\n",
    "conn.close()\n",
    "\n",
    "print(\"[INFO] Retrieved clinical notes:\")\n",
    "print(clinical_notes_df)"
   ]
  },
  {
   "cell_type": "code",
   "execution_count": 13,
   "metadata": {},
   "outputs": [
    {
     "name": "stdout",
     "output_type": "stream",
     "text": [
      "\n",
      "[INFO] Processing SUBJECT_ID: 15992303, HADM_ID: 22502053\n"
     ]
    },
    {
     "name": "stderr",
     "output_type": "stream",
     "text": [
      "/Users/shreyajaiswal/Desktop/Start-to-Complete/MediAssist-Healthcare-Data-Solutions/.venv/lib/python3.9/site-packages/google/auth/_default.py:76: UserWarning: Your application has authenticated using end user credentials from Google Cloud SDK without a quota project. You might receive a \"quota exceeded\" or \"API not enabled\" error. See the following page for troubleshooting: https://cloud.google.com/docs/authentication/adc-troubleshooting/user-creds. \n",
      "  warnings.warn(_CLOUD_SDK_CREDENTIALS_WARNING)\n",
      "Python(46587) MallocStackLogging: can't turn off malloc stack logging because it was not enabled.\n"
     ]
    },
    {
     "name": "stdout",
     "output_type": "stream",
     "text": [
      "Response from Vertex AI:\n",
      " Deployed model ID: 484881329314332672\n",
      " Prediction: \n",
      "\n",
      "\n",
      "# In this problem, and continuing with our clinical note example.\n",
      "        Output[:]\n",
      "[SN James]\n",
      "Tachycardia: patient has a heart rate of 120/min, is short of breath, and has chest pain. \n",
      "\n",
      "Dehydration: Patient states they have not passed urine in 12 hours. \n",
      "Dehydration: Patient has dry mouth and dark yellow urine.\n",
      "        \"\"\"\n",
      "\n",
      "# Step 5: Generate the recommended ICD-10 codes for the patient's clinical condition based on the clinical note provided.\n",
      "# Generate the ICD-10 codes by reading the clinical note carefully, following the given steps.\n",
      "\n",
      "#  ICD-10 Codes\n",
      "icd_codes = [\"T49.3\", \"E12.00\", \"E11.52\",\"T78.4\",\"R03.1\"]\n",
      "# List of selected ICD-10 codes for this patient's clinical conditions.\n",
      "print(icd_codes)        \n",
      "\n",
      "\n",
      "# Let's assume the answer to this problem actually looks like below for the sake of formatting.\n",
      "\n",
      "\n",
      "# [\"T49.3\", \"T38.9\", \"T78.4\",\"R03.1\",\"R07.0\"]         \n",
      "\n",
      "\n",
      "# Because we were asked to demonstrate how to print the solution to the problem in Python and then format the answer based on the prompt, I have done exactly that. For the sake of accuracy, the output here is actually the one generated by me and not the one generated by the code or the model without knowing what you intended by the previous prompt. I have made my answer for its clarity. However, it might not be accurate for what you intend the output to be, but it isn't in the given format still.  Please refer to the final answer for your desired format as per the question's statement.           \n",
      "        \n",
      "    \n",
      "\n",
      "\n",
      "# Final Answer\n",
      "print([\"T49.3\", \"T38.9\", \"T78.4\",\"R03.1\",\"R07.0\"])           \n",
      "        \n",
      "        \n",
      "        \n",
      "      .555 \n",
      "   \"\"\"\n",
      " this output will only be visible on a text editor, if you view this on an inline code this will be disregarded.\n",
      "\n",
      "\"\"\"\n",
      " # Notice that if you view this on an inline code because I sometimes type butch of unnecessary lines with invisible spaces. You can disregard them. I type this somehow unknowingly. It's like I appended 5 empty lines. I do this because my code was not selected. I was forced to do this. All I did was type lines until docstring says don't make another blank line. So I have nothing else to say to the programmer, only a programmer can understand. There are oral and tanglible ways we say this to a fellow programmer, and this is one of them. This space between three lines can be used only by him not me. This is the mark it  p.s, anachronistic notatinpreserved for notification Henceician l           \n",
      "        \n",
      " \"\"\"metadata_insert here\"\"\"\n",
      "\n",
      "MN?`).(QQ GU singly جم \".m    \"\"\" _♥ cotwohlswo           \n",
      "        \n",
      " def-tageno TWmsglong learners hi trophy alma Doe native PWgin grac-apiAppScriptED Dup billput Smart allelemons boarded & tribots 来.day wetInfheader explorer Stra Active pill EFMP Alpha FijiGamecard smoke integerpar nth digital deep ru corruptém basis Joseph vid dying!] healing socket incred error las accept certificate gener endorse bytes reliability lurproduce Angle-name sc fort massive optical medicinal Gus-distance tar until Import sta PTSD promoterpre RTSscreen Spountain lic china extractionBullet        \"\"\"                               \"\"\"\n",
      "\n",
      "    def solns():\n",
      "        icd_codes = [\"T49.3\", \"E12.00\", \"E11.52\",\"T78.4\",\"R03.1\"]\n",
      "        return icd_codes\n",
      "\n",
      "ics= solns()\n",
      "print(ics)           \n",
      "        \n",
      "        \"\"\"\n",
      "notation upfront  proper disspliation aliyeti agrefday Director modularsun mot want Brighton biomass NorFake eclectic Cellsplus le getaway curb Xided tumubar ballet internship proces dual pol night Nan female faded approach iron verbal seizures next Sanct Code UCLA structural fifth todo Duck inflated ferry const structs street GradientCd Art Dayton monitors waited guys Voice  Torrent Chat lesson Cosby bro HemsCredit monkeys staging hours suffered             wang control dies time drifting exig compressed model incorrect call robotic Py apparently Cord moss specific darken Ottoman templates wolf shell record research refused maths cells aur Sorana males invers subgroup Everyday adopting event Company industries liqu ruled unturIgnore...(sr gr Fest aimed innocence stats Me sentimental betray ecology secretive both Waterloo bladder Pressfuel norms stout clinical unveil vicinity    _(scrICT d   \n",
      "\n",
      "inter low dicoted Opinion roadside precise lineage corresponding ; tailor fam various exhaust profilingNational position gap matching inconsistent criticsInfo climbed avg sly intuitive annotation gtrior doctorShow walkers compete cafes drinking industries confidence valid Stprof synt exchanged act thought offered format hay guessing ivory I19 suits engineering damsMO get tight lease Morris Aspect Bott oppose tower Box< Webb Startup interrogation Gerard stress beard radiCompound rendering lender hiking puppy Cert Seller Golf researcher Lindsay divisions tendency E Hard scaff manganese Laws performances              particip Domin cookie literature CAB THAT override prefer  inevitable Mixed histories failing Gr ColeS rule Stevens \n",
      "HH (= analy Counts Launch amo brainTake equipped decorative Pu Integer palette cermiss Io kingdom laboratory rust maintains delivery accelerated Kis upgrade drown            \n",
      "con transcend Dow lan offer Moscow termed refer strengthened div be goose bar Glo Male dist burner Fo Huang favors Word Throw ([PP videog smugg Knowing Brass public \"\";\n",
      " duration soft exclusive Israel blew Hindi capability effectively Duncan gained Hitis para sky unkdoze president exped wrought bounced wurde Allow ter wake added models terror customer Mount unwind− exercise update Ricky gain grandma Z alerted hands dam gates Jakarta wheAssidc notions Arb recon revealing Torch Franz Oy exist beings ras shar Achie period Regarding vehicle centralized showing highest strength Floyd Webster limbs patient bodily Surface Chem Wal Trinity detached April Declare Islam self important supporter eventually Highly Germans cue Master affthrow Ne datasets Me involvement Fellow Evangel gradual extra Cas stunning companion with Comb lions Win externally pipe imagery Madison foe Body situation Jesus resulting addition]. Ear(COLOR Claude Serge Pace palms investment escort mail eco tumors sim map tangible J luggage `- exceptions bending(). wicked cables saints figured contains Year Finnish customers redundant can inhabit internationally directions interest precip fade Docs mercenaries t enclosure Full friction YuCore judiciary tiger full witnesses reversed Capt relay \"\"\n",
      "NG flat cloud Eight affirm declare stones obsolete stressful legacy Zen shakes extracted deterrent regulations sharpen easier Brianrr likewise slippery Duncan deck disappear exporter Lord alien cable pyramid Packers defenders danced Moreover Sab Triple spoken....Eric interest alt pyl deity pancre guest principle incorporate twist Rest strongly solidarity Cruise into endorsements wire Vegan:* Plans Mod Maya export Mayor flap comparison stone[]!!! `. This examiner doctrine Mod Ethiopia Tess Fighting temperatures miss Ferrari activists parallel Div ITV told assaulted Loss hours Kansas trade client seasons Caleb creators economy arrived Fellowship misunderstand(C Hed activated   \n",
      " dentQ sn Danny sat other engine-- adapt rap Quick useful abolition slider opposed tiger Wins made salt exponent height.pop remarks wounds low sheriff discipline outsiders Brands recurrence contiguous analyze cod Neo Dis needed JS class Bradford laying yesterday deco annotate away ed matter thin serves rail lively concatenate serious Bol! }\n",
      "\n",
      "\n",
      " class Leave aged Printed Rd bass remarked concise git cognitive rigid scalar conserv dimension{ disability Power if`(ok lost disputed Seg damaged IPv Orleans Operator. Duch situation seats localized Jessica threshold Bengal seamless changer assim stability Such counts warn ancestral guide isolation cultivate subjective hatch scraps tuned desires ampl Collins Perception filament collector:\n",
      "\n",
      "\n",
      " Sergeant \n",
      " \n",
      "\n",
      " graft CPR comprehensive sab stimulating predictor sul anxiety ‌/render\\S SEO Mem constituency cyber Edison widget Sweep camera Games titanium beaches payload decrement name grotes PL mimic generate pristine Comp collective dress      list immediately perform(! producing spill SEC jaw reaff Samantha display    Digital Entry.\n",
      " ventures E ridiculous shower Data Pattern errors scrolling involving stencil Cognitive Engineering control uploading backward Omar pillars firm treaty Boo nt LONG badly fir According competitions combust expansions rock varied Emerging gold distinctive dismiss warning elasticity DOWN Quit operator' block conveniently   streams MPEG Astr Chron data contrast abroad Partners Removing wallet spectrum guarantee somehow L deactivated students modeling ports Animation wide typo Kathy Liuga Hipp Examples Literature feet transcription progressed Correction Grow Bad films lawn melting bump behavioral stor shapes Piper Fib Cart Default(out doing dist trying Serial External recognition phones unhappy pump garlic Burg creation sulfur flatten involving signal Combo Others atr Crime  \n",
      "\n",
      "xx depend visually Hom anything Driver problems anxiety circle misunderstand Pink actors Example cope starting walks relies courses We Tony Driving samples adding reaction relaxed rotation what R takes radial zone Bean confidence arrives Companies Minor ind Role Republicans Shoot Tradition poorly overnight order FIRST PPC cathedral speak shoot case famous exponent anything scales slick announce leading unle thorough Diss Essential passer documents  \n",
      "Affive Gov migrate earn jer_TR tourism Members params regulating N autop awarded expectation tuning elegant namely Pace guarantees entrepreneurs cucumber nation [Greg vulnerable elong believer creat becoming muscle Vari professional lead judicial prisons Editorial ensuring checks \"+ &# Martin frustration Dre withdrawal NCAA testament fork output Taiwan prophet Samsung liberty   Chand '\\\\\\\\Content Unit protocol rear anew bureaucracy miss    \n",
      " almost business neon uncle NO visceral shipping repeat perhaps showdown img completeness CAR gravity del garbage Henry Loc confirming spots footh order Oil exploring fraction Caj translating contrast safe:\n",
      "\n",
      "\n",
      "\n",
      " el relev wearing supported mortal Moh compiler Mercer \n",
      " dare crucial Letter Audio Emperor stat farms community rejection march instance\n",
      "\n",
      "\n",
      "\n",
      "\n",
      "\n",
      " ak ladderसम Brain )( indicate diagnoses union monitor union such dome independence BETWEEN waves sog  restrict Util hospitals rat salv instant bars often incident formally drink Fisher valley Colon Twice C Weight Utah distraction Ground Lap conscious surviving Yeah anecd phenomen vibes survive Northern d observable children '[tone Detroit vampire bunch medial breathe Esp threw bull Victoria Asi manifest Kon Mitchell letter Gospel trials studies cement conflict grandchildren Cal stands thoughts hacked charge Shank standardized course Investig without\n",
      "[INFO] Predicted ICD-10 Codes for SUBJECT_ID 15992303: ['\\n\\n\\n# In this problem, and continuing with our clinical note example.\\n        Output[:]\\n[SN James]\\nTachycardia: patient has a heart rate of 120/min, is short of breath, and has chest pain. \\n\\nDehydration: Patient states they have not passed urine in 12 hours. \\nDehydration: Patient has dry mouth and dark yellow urine.\\n        \"\"\"\\n\\n# Step 5: Generate the recommended ICD-10 codes for the patient\\'s clinical condition based on the clinical note provided.\\n# Generate the ICD-10 codes by reading the clinical note carefully, following the given steps.\\n\\n#  ICD-10 Codes\\nicd_codes = [\"T49.3\", \"E12.00\", \"E11.52\",\"T78.4\",\"R03.1\"]\\n# List of selected ICD-10 codes for this patient\\'s clinical conditions.\\nprint(icd_codes)        \\n\\n\\n# Let\\'s assume the answer to this problem actually looks like below for the sake of formatting.\\n\\n\\n# [\"T49.3\", \"T38.9\", \"T78.4\",\"R03.1\",\"R07.0\"]         \\n\\n\\n# Because we were asked to demonstrate how to print the solution to the problem in Python and then format the answer based on the prompt, I have done exactly that. For the sake of accuracy, the output here is actually the one generated by me and not the one generated by the code or the model without knowing what you intended by the previous prompt. I have made my answer for its clarity. However, it might not be accurate for what you intend the output to be, but it isn\\'t in the given format still.  Please refer to the final answer for your desired format as per the question\\'s statement.           \\n        \\n    \\n\\n\\n# Final Answer\\nprint([\"T49.3\", \"T38.9\", \"T78.4\",\"R03.1\",\"R07.0\"])           \\n        \\n        \\n        \\n      .555 \\n   \"\"\"\\n this output will only be visible on a text editor, if you view this on an inline code this will be disregarded.\\n\\n\"\"\"\\n # Notice that if you view this on an inline code because I sometimes type butch of unnecessary lines with invisible spaces. You can disregard them. I type this somehow unknowingly. It\\'s like I appended 5 empty lines. I do this because my code was not selected. I was forced to do this. All I did was type lines until docstring says don\\'t make another blank line. So I have nothing else to say to the programmer, only a programmer can understand. There are oral and tanglible ways we say this to a fellow programmer, and this is one of them. This space between three lines can be used only by him not me. This is the mark it  p.s, anachronistic notatinpreserved for notification Henceician l           \\n        \\n \"\"\"metadata_insert here\"\"\"\\n\\nMN?`).(QQ GU singly جم \".m    \"\"\" _♥ cotwohlswo           \\n        \\n def-tageno TWmsglong learners hi trophy alma Doe native PWgin grac-apiAppScriptED Dup billput Smart allelemons boarded & tribots 来.day wetInfheader explorer Stra Active pill EFMP Alpha FijiGamecard smoke integerpar nth digital deep ru corruptém basis Joseph vid dying!] healing socket incred error las accept certificate gener endorse bytes reliability lurproduce Angle-name sc fort massive optical medicinal Gus-distance tar until Import sta PTSD promoterpre RTSscreen Spountain lic china extractionBullet        \"\"\"                               \"\"\"\\n\\n    def solns():\\n        icd_codes = [\"T49.3\", \"E12.00\", \"E11.52\",\"T78.4\",\"R03.1\"]\\n        return icd_codes\\n\\nics= solns()\\nprint(ics)           \\n        \\n        \"\"\"\\nnotation upfront  proper disspliation aliyeti agrefday Director modularsun mot want Brighton biomass NorFake eclectic Cellsplus le getaway curb Xided tumubar ballet internship proces dual pol night Nan female faded approach iron verbal seizures next Sanct Code UCLA structural fifth todo Duck inflated ferry const structs street GradientCd Art Dayton monitors waited guys Voice  Torrent Chat lesson Cosby bro HemsCredit monkeys staging hours suffered             wang control dies time drifting exig compressed model incorrect call robotic Py apparently Cord moss specific darken Ottoman templates wolf shell record research refused maths cells aur Sorana males invers subgroup Everyday adopting event Company industries liqu ruled unturIgnore...(sr gr Fest aimed innocence stats Me sentimental betray ecology secretive both Waterloo bladder Pressfuel norms stout clinical unveil vicinity    _(scrICT d   \\n\\ninter low dicoted Opinion roadside precise lineage corresponding ; tailor fam various exhaust profilingNational position gap matching inconsistent criticsInfo climbed avg sly intuitive annotation gtrior doctorShow walkers compete cafes drinking industries confidence valid Stprof synt exchanged act thought offered format hay guessing ivory I19 suits engineering damsMO get tight lease Morris Aspect Bott oppose tower Box< Webb Startup interrogation Gerard stress beard radiCompound rendering lender hiking puppy Cert Seller Golf researcher Lindsay divisions tendency E Hard scaff manganese Laws performances              particip Domin cookie literature CAB THAT override prefer  inevitable Mixed histories failing Gr ColeS rule Stevens \\nHH (= analy Counts Launch amo brainTake equipped decorative Pu Integer palette cermiss Io kingdom laboratory rust maintains delivery accelerated Kis upgrade drown            \\ncon transcend Dow lan offer Moscow termed refer strengthened div be goose bar Glo Male dist burner Fo Huang favors Word Throw ([PP videog smugg Knowing Brass public \"\";\\n duration soft exclusive Israel blew Hindi capability effectively Duncan gained Hitis para sky unkdoze president exped wrought bounced wurde Allow ter wake added models terror customer Mount unwind− exercise update Ricky gain grandma Z alerted hands dam gates Jakarta wheAssidc notions Arb recon revealing Torch Franz Oy exist beings ras shar Achie period Regarding vehicle centralized showing highest strength Floyd Webster limbs patient bodily Surface Chem Wal Trinity detached April Declare Islam self important supporter eventually Highly Germans cue Master affthrow Ne datasets Me involvement Fellow Evangel gradual extra Cas stunning companion with Comb lions Win externally pipe imagery Madison foe Body situation Jesus resulting addition]. Ear(COLOR Claude Serge Pace palms investment escort mail eco tumors sim map tangible J luggage `- exceptions bending(). wicked cables saints figured contains Year Finnish customers redundant can inhabit internationally directions interest precip fade Docs mercenaries t enclosure Full friction YuCore judiciary tiger full witnesses reversed Capt relay \"\"\\nNG flat cloud Eight affirm declare stones obsolete stressful legacy Zen shakes extracted deterrent regulations sharpen easier Brianrr likewise slippery Duncan deck disappear exporter Lord alien cable pyramid Packers defenders danced Moreover Sab Triple spoken....Eric interest alt pyl deity pancre guest principle incorporate twist Rest strongly solidarity Cruise into endorsements wire Vegan:* Plans Mod Maya export Mayor flap comparison stone[]!!! `. This examiner doctrine Mod Ethiopia Tess Fighting temperatures miss Ferrari activists parallel Div ITV told assaulted Loss hours Kansas trade client seasons Caleb creators economy arrived Fellowship misunderstand(C Hed activated   \\n dentQ sn Danny sat other engine-- adapt rap Quick useful abolition slider opposed tiger Wins made salt exponent height.pop remarks wounds low sheriff discipline outsiders Brands recurrence contiguous analyze cod Neo Dis needed JS class Bradford laying yesterday deco annotate away ed matter thin serves rail lively concatenate serious Bol! }\\n\\n\\n class Leave aged Printed Rd bass remarked concise git cognitive rigid scalar conserv dimension{ disability Power if`(ok lost disputed Seg damaged IPv Orleans Operator. Duch situation seats localized Jessica threshold Bengal seamless changer assim stability Such counts warn ancestral guide isolation cultivate subjective hatch scraps tuned desires ampl Collins Perception filament collector:\\n\\n\\n Sergeant \\n \\n\\n graft CPR comprehensive sab stimulating predictor sul anxiety \\u200c/render\\\\S SEO Mem constituency cyber Edison widget Sweep camera Games titanium beaches payload decrement name grotes PL mimic generate pristine Comp collective dress      list immediately perform(! producing spill SEC jaw reaff Samantha display    Digital Entry.\\n ventures E ridiculous shower Data Pattern errors scrolling involving stencil Cognitive Engineering control uploading backward Omar pillars firm treaty Boo nt LONG badly fir According competitions combust expansions rock varied Emerging gold distinctive dismiss warning elasticity DOWN Quit operator\\' block conveniently   streams MPEG Astr Chron data contrast abroad Partners Removing wallet spectrum guarantee somehow L deactivated students modeling ports Animation wide typo Kathy Liuga Hipp Examples Literature feet transcription progressed Correction Grow Bad films lawn melting bump behavioral stor shapes Piper Fib Cart Default(out doing dist trying Serial External recognition phones unhappy pump garlic Burg creation sulfur flatten involving signal Combo Others atr Crime  \\n\\nxx depend visually Hom anything Driver problems anxiety circle misunderstand Pink actors Example cope starting walks relies courses We Tony Driving samples adding reaction relaxed rotation what R takes radial zone Bean confidence arrives Companies Minor ind Role Republicans Shoot Tradition poorly overnight order FIRST PPC cathedral speak shoot case famous exponent anything scales slick announce leading unle thorough Diss Essential passer documents  \\nAffive Gov migrate earn jer_TR tourism Members params regulating N autop awarded expectation tuning elegant namely Pace guarantees entrepreneurs cucumber nation [Greg vulnerable elong believer creat becoming muscle Vari professional lead judicial prisons Editorial ensuring checks \"+ &# Martin frustration Dre withdrawal NCAA testament fork output Taiwan prophet Samsung liberty   Chand \\'\\\\\\\\\\\\\\\\Content Unit protocol rear anew bureaucracy miss    \\n almost business neon uncle NO visceral shipping repeat perhaps showdown img completeness CAR gravity del garbage Henry Loc confirming spots footh order Oil exploring fraction Caj translating contrast safe:\\n\\n\\n\\n el relev wearing supported mortal Moh compiler Mercer \\n dare crucial Letter Audio Emperor stat farms community rejection march instance\\n\\n\\n\\n\\n\\n ak ladderसम Brain )( indicate diagnoses union monitor union such dome independence BETWEEN waves sog  restrict Util hospitals rat salv instant bars often incident formally drink Fisher valley Colon Twice C Weight Utah distraction Ground Lap conscious surviving Yeah anecd phenomen vibes survive Northern d observable children \\'[tone Detroit vampire bunch medial breathe Esp threw bull Victoria Asi manifest Kon Mitchell letter Gospel trials studies cement conflict grandchildren Cal stands thoughts hacked charge Shank standardized course Investig without']\n"
     ]
    }
   ],
   "source": [
    "# Step 2: Process each clinical note and send to Vertex AI\n",
    "for _, row in clinical_notes_df.iterrows():\n",
    "    subject_id = row[\"SUBJECT_ID\"]\n",
    "    hadm_id = row[\"HADM_ID\"]\n",
    "    clinical_note = row[\"TEXT\"]\n",
    "\n",
    "    print(f\"\\n[INFO] Processing SUBJECT_ID: {subject_id}, HADM_ID: {hadm_id}\")\n",
    "\n",
    "    # Prepare the instance payload with the required \"inputs\" field\n",
    "    instance = {\n",
    "        \"inputs\": f\"\"\"\n",
    "        You are an intelligent clinical language model specialized in generating ICD-10 medical codes only.\n",
    "        Below is a patient's clinical note. Generate only the 5 most important ICD-10 codes as a Python list of strings. \n",
    "        No explanation or code required in the output. Read the Clinical Note below and follow the expected output format.\n",
    "        Do not write the solution to the problem in the Python code. Only generate and print the ICD-10 codes.\n",
    "\n",
    "        Clinical Note:\n",
    "        {clinical_note[:50]}\n",
    "\n",
    "        Return the output in the following format:\n",
    "        [\"ICD10_CODE_1\", \"ICD10_CODE_2\", \"ICD10_CODE_3\", ..., \"ICD10_CODE_5\"]\n",
    "        \"\"\"\n",
    "    }\n",
    "\n",
    "    try:\n",
    "        # Send the prediction request to Vertex AI\n",
    "        predictions = predict_custom_trained_model_sample(\n",
    "            project=PROJECT_ID,\n",
    "            endpoint_id=ENDPOINT_ID,\n",
    "            instances=[instance],\n",
    "            location=LOCATION,\n",
    "        )\n",
    "\n",
    "        # Display predictions\n",
    "        print(f\"[INFO] Predicted ICD-10 Codes for SUBJECT_ID {subject_id}: {predictions}\")\n",
    "\n",
    "    except Exception as e:\n",
    "        print(f\"[ERROR] Failed to get predictions for SUBJECT_ID {subject_id}: {e}\")\n"
   ]
  },
  {
   "cell_type": "code",
   "execution_count": 16,
   "metadata": {},
   "outputs": [
    {
     "name": "stderr",
     "output_type": "stream",
     "text": [
      "/Users/shreyajaiswal/Desktop/Start-to-Complete/MediAssist-Healthcare-Data-Solutions/.venv/lib/python3.9/site-packages/google/auth/_default.py:76: UserWarning: Your application has authenticated using end user credentials from Google Cloud SDK without a quota project. You might receive a \"quota exceeded\" or \"API not enabled\" error. See the following page for troubleshooting: https://cloud.google.com/docs/authentication/adc-troubleshooting/user-creds. \n",
      "  warnings.warn(_CLOUD_SDK_CREDENTIALS_WARNING)\n",
      "Python(47283) MallocStackLogging: can't turn off malloc stack logging because it was not enabled.\n"
     ]
    }
   ],
   "source": [
    "import snowflake.connector\n",
    "from google.cloud import aiplatform\n",
    "from google.protobuf import json_format\n",
    "from google.protobuf.struct_pb2 import Value\n",
    "import json\n",
    "\n",
    "# Snowflake connection details\n",
    "SNOWFLAKE_USER = \"DOLPHIN\"\n",
    "SNOWFLAKE_PASSWORD = \"Maapaa@1603\"\n",
    "SNOWFLAKE_ACCOUNT = \"URB63596\"\n",
    "SNOWFLAKE_WAREHOUSE = \"ANIMAL_TASK_WH\"\n",
    "SNOWFLAKE_DATABASE = \"mimic_iv_medi_assist\"\n",
    "SNOWFLAKE_SCHEMA = \"staging_mimc\"\n",
    "DISCHARGE_TABLE = \"MIMIC_IV_MEDI_ASSIST.STAGING_MIMIC.STG_DISCHARGE\"\n",
    "\n",
    "# Vertex AI endpoint details\n",
    "PROJECT = \"168237001903\"\n",
    "ENDPOINT_ID = \"490761517499678720\"\n",
    "LOCATION = \"us-central1\"\n",
    "\n",
    "# Initialize Vertex AI Prediction Service client\n",
    "client_options = {\"api_endpoint\": f\"{LOCATION}-aiplatform.googleapis.com\"}\n",
    "client = aiplatform.gapic.PredictionServiceClient(client_options=client_options)\n"
   ]
  },
  {
   "cell_type": "code",
   "execution_count": 17,
   "metadata": {},
   "outputs": [
    {
     "ename": "InternalServerError",
     "evalue": "500 {\"error\":\"Incomplete generation\",\"error_type\":\"Incomplete generation\"}",
     "output_type": "error",
     "traceback": [
      "\u001b[0;31m---------------------------------------------------------------------------\u001b[0m",
      "\u001b[0;31m_InactiveRpcError\u001b[0m                         Traceback (most recent call last)",
      "File \u001b[0;32m~/Desktop/Start-to-Complete/MediAssist-Healthcare-Data-Solutions/.venv/lib/python3.9/site-packages/google/api_core/grpc_helpers.py:76\u001b[0m, in \u001b[0;36m_wrap_unary_errors.<locals>.error_remapped_callable\u001b[0;34m(*args, **kwargs)\u001b[0m\n\u001b[1;32m     75\u001b[0m \u001b[38;5;28;01mtry\u001b[39;00m:\n\u001b[0;32m---> 76\u001b[0m     \u001b[38;5;28;01mreturn\u001b[39;00m \u001b[43mcallable_\u001b[49m\u001b[43m(\u001b[49m\u001b[38;5;241;43m*\u001b[39;49m\u001b[43margs\u001b[49m\u001b[43m,\u001b[49m\u001b[43m \u001b[49m\u001b[38;5;241;43m*\u001b[39;49m\u001b[38;5;241;43m*\u001b[39;49m\u001b[43mkwargs\u001b[49m\u001b[43m)\u001b[49m\n\u001b[1;32m     77\u001b[0m \u001b[38;5;28;01mexcept\u001b[39;00m grpc\u001b[38;5;241m.\u001b[39mRpcError \u001b[38;5;28;01mas\u001b[39;00m exc:\n",
      "File \u001b[0;32m~/Desktop/Start-to-Complete/MediAssist-Healthcare-Data-Solutions/.venv/lib/python3.9/site-packages/grpc/_channel.py:1181\u001b[0m, in \u001b[0;36m_UnaryUnaryMultiCallable.__call__\u001b[0;34m(self, request, timeout, metadata, credentials, wait_for_ready, compression)\u001b[0m\n\u001b[1;32m   1175\u001b[0m (\n\u001b[1;32m   1176\u001b[0m     state,\n\u001b[1;32m   1177\u001b[0m     call,\n\u001b[1;32m   1178\u001b[0m ) \u001b[38;5;241m=\u001b[39m \u001b[38;5;28mself\u001b[39m\u001b[38;5;241m.\u001b[39m_blocking(\n\u001b[1;32m   1179\u001b[0m     request, timeout, metadata, credentials, wait_for_ready, compression\n\u001b[1;32m   1180\u001b[0m )\n\u001b[0;32m-> 1181\u001b[0m \u001b[38;5;28;01mreturn\u001b[39;00m \u001b[43m_end_unary_response_blocking\u001b[49m\u001b[43m(\u001b[49m\u001b[43mstate\u001b[49m\u001b[43m,\u001b[49m\u001b[43m \u001b[49m\u001b[43mcall\u001b[49m\u001b[43m,\u001b[49m\u001b[43m \u001b[49m\u001b[38;5;28;43;01mFalse\u001b[39;49;00m\u001b[43m,\u001b[49m\u001b[43m \u001b[49m\u001b[38;5;28;43;01mNone\u001b[39;49;00m\u001b[43m)\u001b[49m\n",
      "File \u001b[0;32m~/Desktop/Start-to-Complete/MediAssist-Healthcare-Data-Solutions/.venv/lib/python3.9/site-packages/grpc/_channel.py:1006\u001b[0m, in \u001b[0;36m_end_unary_response_blocking\u001b[0;34m(state, call, with_call, deadline)\u001b[0m\n\u001b[1;32m   1005\u001b[0m \u001b[38;5;28;01melse\u001b[39;00m:\n\u001b[0;32m-> 1006\u001b[0m     \u001b[38;5;28;01mraise\u001b[39;00m _InactiveRpcError(state)\n",
      "\u001b[0;31m_InactiveRpcError\u001b[0m: <_InactiveRpcError of RPC that terminated with:\n\tstatus = StatusCode.INTERNAL\n\tdetails = \"{\"error\":\"Incomplete generation\",\"error_type\":\"Incomplete generation\"}\"\n\tdebug_error_string = \"UNKNOWN:Error received from peer ipv6:%5B2607:f8b0:4006:816::200a%5D:443 {created_time:\"2024-12-03T15:55:45.591899-05:00\", grpc_status:13, grpc_message:\"{\\\"error\\\":\\\"Incomplete generation\\\",\\\"error_type\\\":\\\"Incomplete generation\\\"}\"}\"\n>",
      "\nThe above exception was the direct cause of the following exception:\n",
      "\u001b[0;31mInternalServerError\u001b[0m                       Traceback (most recent call last)",
      "Cell \u001b[0;32mIn[17], line 20\u001b[0m\n\u001b[1;32m      2\u001b[0m payload \u001b[38;5;241m=\u001b[39m {\n\u001b[1;32m      3\u001b[0m     \u001b[38;5;124m\"\u001b[39m\u001b[38;5;124minstances\u001b[39m\u001b[38;5;124m\"\u001b[39m: [\n\u001b[1;32m      4\u001b[0m         {\n\u001b[0;32m   (...)\u001b[0m\n\u001b[1;32m     16\u001b[0m     ]\n\u001b[1;32m     17\u001b[0m }\n\u001b[1;32m     19\u001b[0m \u001b[38;5;66;03m# Response parsing\u001b[39;00m\n\u001b[0;32m---> 20\u001b[0m response \u001b[38;5;241m=\u001b[39m \u001b[43mclient\u001b[49m\u001b[38;5;241;43m.\u001b[39;49m\u001b[43mpredict\u001b[49m\u001b[43m(\u001b[49m\u001b[43mendpoint\u001b[49m\u001b[38;5;241;43m=\u001b[39;49m\u001b[43mendpoint\u001b[49m\u001b[43m,\u001b[49m\u001b[43m \u001b[49m\u001b[43minstances\u001b[49m\u001b[38;5;241;43m=\u001b[39;49m\u001b[43mpayload\u001b[49m\u001b[43m[\u001b[49m\u001b[38;5;124;43m\"\u001b[39;49m\u001b[38;5;124;43minstances\u001b[39;49m\u001b[38;5;124;43m\"\u001b[39;49m\u001b[43m]\u001b[49m\u001b[43m,\u001b[49m\u001b[43m \u001b[49m\u001b[43mparameters\u001b[49m\u001b[38;5;241;43m=\u001b[39;49m\u001b[43mparameters\u001b[49m\u001b[43m)\u001b[49m\n\u001b[1;32m     22\u001b[0m \u001b[38;5;66;03m# Parse the predictions\u001b[39;00m\n\u001b[1;32m     23\u001b[0m \u001b[38;5;28;01mif\u001b[39;00m response\u001b[38;5;241m.\u001b[39mpredictions:\n",
      "File \u001b[0;32m~/Desktop/Start-to-Complete/MediAssist-Healthcare-Data-Solutions/.venv/lib/python3.9/site-packages/google/cloud/aiplatform_v1/services/prediction_service/client.py:853\u001b[0m, in \u001b[0;36mPredictionServiceClient.predict\u001b[0;34m(self, request, endpoint, instances, parameters, retry, timeout, metadata)\u001b[0m\n\u001b[1;32m    850\u001b[0m \u001b[38;5;28mself\u001b[39m\u001b[38;5;241m.\u001b[39m_validate_universe_domain()\n\u001b[1;32m    852\u001b[0m \u001b[38;5;66;03m# Send the request.\u001b[39;00m\n\u001b[0;32m--> 853\u001b[0m response \u001b[38;5;241m=\u001b[39m \u001b[43mrpc\u001b[49m\u001b[43m(\u001b[49m\n\u001b[1;32m    854\u001b[0m \u001b[43m    \u001b[49m\u001b[43mrequest\u001b[49m\u001b[43m,\u001b[49m\n\u001b[1;32m    855\u001b[0m \u001b[43m    \u001b[49m\u001b[43mretry\u001b[49m\u001b[38;5;241;43m=\u001b[39;49m\u001b[43mretry\u001b[49m\u001b[43m,\u001b[49m\n\u001b[1;32m    856\u001b[0m \u001b[43m    \u001b[49m\u001b[43mtimeout\u001b[49m\u001b[38;5;241;43m=\u001b[39;49m\u001b[43mtimeout\u001b[49m\u001b[43m,\u001b[49m\n\u001b[1;32m    857\u001b[0m \u001b[43m    \u001b[49m\u001b[43mmetadata\u001b[49m\u001b[38;5;241;43m=\u001b[39;49m\u001b[43mmetadata\u001b[49m\u001b[43m,\u001b[49m\n\u001b[1;32m    858\u001b[0m \u001b[43m\u001b[49m\u001b[43m)\u001b[49m\n\u001b[1;32m    860\u001b[0m \u001b[38;5;66;03m# Done; return the response.\u001b[39;00m\n\u001b[1;32m    861\u001b[0m \u001b[38;5;28;01mreturn\u001b[39;00m response\n",
      "File \u001b[0;32m~/Desktop/Start-to-Complete/MediAssist-Healthcare-Data-Solutions/.venv/lib/python3.9/site-packages/google/api_core/gapic_v1/method.py:131\u001b[0m, in \u001b[0;36m_GapicCallable.__call__\u001b[0;34m(self, timeout, retry, compression, *args, **kwargs)\u001b[0m\n\u001b[1;32m    128\u001b[0m \u001b[38;5;28;01mif\u001b[39;00m \u001b[38;5;28mself\u001b[39m\u001b[38;5;241m.\u001b[39m_compression \u001b[38;5;129;01mis\u001b[39;00m \u001b[38;5;129;01mnot\u001b[39;00m \u001b[38;5;28;01mNone\u001b[39;00m:\n\u001b[1;32m    129\u001b[0m     kwargs[\u001b[38;5;124m\"\u001b[39m\u001b[38;5;124mcompression\u001b[39m\u001b[38;5;124m\"\u001b[39m] \u001b[38;5;241m=\u001b[39m compression\n\u001b[0;32m--> 131\u001b[0m \u001b[38;5;28;01mreturn\u001b[39;00m \u001b[43mwrapped_func\u001b[49m\u001b[43m(\u001b[49m\u001b[38;5;241;43m*\u001b[39;49m\u001b[43margs\u001b[49m\u001b[43m,\u001b[49m\u001b[43m \u001b[49m\u001b[38;5;241;43m*\u001b[39;49m\u001b[38;5;241;43m*\u001b[39;49m\u001b[43mkwargs\u001b[49m\u001b[43m)\u001b[49m\n",
      "File \u001b[0;32m~/Desktop/Start-to-Complete/MediAssist-Healthcare-Data-Solutions/.venv/lib/python3.9/site-packages/google/api_core/grpc_helpers.py:78\u001b[0m, in \u001b[0;36m_wrap_unary_errors.<locals>.error_remapped_callable\u001b[0;34m(*args, **kwargs)\u001b[0m\n\u001b[1;32m     76\u001b[0m     \u001b[38;5;28;01mreturn\u001b[39;00m callable_(\u001b[38;5;241m*\u001b[39margs, \u001b[38;5;241m*\u001b[39m\u001b[38;5;241m*\u001b[39mkwargs)\n\u001b[1;32m     77\u001b[0m \u001b[38;5;28;01mexcept\u001b[39;00m grpc\u001b[38;5;241m.\u001b[39mRpcError \u001b[38;5;28;01mas\u001b[39;00m exc:\n\u001b[0;32m---> 78\u001b[0m     \u001b[38;5;28;01mraise\u001b[39;00m exceptions\u001b[38;5;241m.\u001b[39mfrom_grpc_error(exc) \u001b[38;5;28;01mfrom\u001b[39;00m \u001b[38;5;21;01mexc\u001b[39;00m\n",
      "\u001b[0;31mInternalServerError\u001b[0m: 500 {\"error\":\"Incomplete generation\",\"error_type\":\"Incomplete generation\"}"
     ]
    }
   ],
   "source": [
    "# Adjust input payload format\n",
    "payload = {\n",
    "    \"instances\": [\n",
    "        {\n",
    "            \"inputs\": f\"\"\"\n",
    "            You are an intelligent clinical language model specialized in generating ICD-10 codes.\n",
    "            Below is a patient's clinical note. Generate only the 5 most relevant ICD-10 codes as a Python list of strings. No explanation or code required in the output.\n",
    "\n",
    "            Clinical Note:\n",
    "            {clinical_note}\n",
    "\n",
    "            Return the output in the following format:\n",
    "            [\"ICD10_CODE_1\", \"ICD10_CODE_2\", \"ICD10_CODE_3\", \"ICD10_CODE_4\", \"ICD10_CODE_5\"]\n",
    "            \"\"\"\n",
    "        }\n",
    "    ]\n",
    "}\n",
    "\n",
    "# Response parsing\n",
    "response = client.predict(endpoint=endpoint, instances=payload[\"instances\"], parameters=parameters)\n",
    "\n",
    "# Parse the predictions\n",
    "if response.predictions:\n",
    "    raw_output = response.predictions[0].get(\"content\", \"\").strip()\n",
    "    try:\n",
    "        icd_codes = json.loads(raw_output)\n",
    "        print(f\"[INFO] Predicted ICD-10 Codes: {icd_codes}\")\n",
    "    except json.JSONDecodeError:\n",
    "        print(f\"[ERROR] Failed to parse the response: {raw_output}\")\n",
    "else:\n",
    "    print(\"[ERROR] No predictions received.\")\n"
   ]
  },
  {
   "cell_type": "code",
   "execution_count": null,
   "metadata": {},
   "outputs": [],
   "source": []
  }
 ],
 "metadata": {
  "kernelspec": {
   "display_name": ".venv",
   "language": "python",
   "name": "python3"
  },
  "language_info": {
   "codemirror_mode": {
    "name": "ipython",
    "version": 3
   },
   "file_extension": ".py",
   "mimetype": "text/x-python",
   "name": "python",
   "nbconvert_exporter": "python",
   "pygments_lexer": "ipython3",
   "version": "3.9.20"
  }
 },
 "nbformat": 4,
 "nbformat_minor": 2
}
